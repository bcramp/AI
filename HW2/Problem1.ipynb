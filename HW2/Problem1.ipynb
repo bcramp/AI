{
  "nbformat": 4,
  "nbformat_minor": 0,
  "metadata": {
    "colab": {
      "provenance": [],
      "include_colab_link": true
    },
    "kernelspec": {
      "name": "python3",
      "display_name": "Python 3"
    },
    "language_info": {
      "name": "python"
    }
  },
  "cells": [
    {
      "cell_type": "markdown",
      "metadata": {
        "id": "view-in-github",
        "colab_type": "text"
      },
      "source": [
        "<a href=\"https://colab.research.google.com/github/bcramp/AI/blob/main/HW2/Problem1.ipynb\" target=\"_parent\"><img src=\"https://colab.research.google.com/assets/colab-badge.svg\" alt=\"Open In Colab\"/></a>"
      ]
    },
    {
      "cell_type": "markdown",
      "source": [
        "# **HW 2 Problem 1 Introduction:**\n",
        "HW 2: Problem 1\n",
        "\n",
        "Title: Social Media Find Friends BFS\n",
        "\n",
        "Name: Brennen Cramp\n",
        "\n",
        "Date: 9/23/2025\n",
        "\n",
        "\n",
        "---\n",
        "\n",
        "\n",
        "**The problem:**\n",
        "\n",
        "In a social media platform, two users can be represented by nodes and an edge between them that determines some form of professional or personal connection. An undirected edge can indicate that both are friends while a directed edge would mean that only one follows the other in the direction of the edge.\n",
        "\n",
        "We can use BFS to gain general insights about users such as:\n",
        "\n",
        "- Finding all the friends of all the people in the network.\n",
        "- Finding all the mutual friends for a node in the network.\n",
        "- Finding the nth level friends for a person in the network.\n",
        "- Etc.*italicized text*"
      ],
      "metadata": {
        "id": "NeU25kCzbBoP"
      }
    },
    {
      "cell_type": "code",
      "execution_count": 1,
      "metadata": {
        "id": "tvYJOkhna0Eg"
      },
      "outputs": [],
      "source": [
        "#@title FindFriends Function\n",
        "\n",
        "# Import the Deque class from the Collections library\n",
        "from collections import deque\n",
        "\n",
        "# The FindFriends function finds the Kth-level of friends given a root person within a graph and prints them out\n",
        "def FindFriends(G, User, K):\n",
        "    # Create a visited set and add the desired user (root node) first\n",
        "    visited = set()\n",
        "    visited.add(User)\n",
        "\n",
        "    # Create an active queue (using deque) to track the active nodes and add the desired user (root node)\n",
        "    # Also, keep track of the current iteration with the person added\n",
        "    active = deque([(User, 0)])\n",
        "\n",
        "    # Create an empty array of Kth-level friends\n",
        "    kthFriends = []\n",
        "\n",
        "    # While the active queue is not empty, iterate through the nodes with BFS\n",
        "    while active:\n",
        "        # Dequeue a friend node along with their iteration (iter) from the active queue\n",
        "        friend, iter = active.popleft()\n",
        "\n",
        "        # If the iteration is equal to the Kth-iteration, add the friend to the kthFriends array\n",
        "        if iter == K:\n",
        "            # Add the Kth-level friend to the array of friends\n",
        "            kthFriends.append(friend)\n",
        "            # Continue to the next friend in the queue since we are at the level we want\n",
        "            continue\n",
        "\n",
        "        # If the current iteration has passed the Kth-level, break the loop\n",
        "        if iter > K:\n",
        "            break\n",
        "\n",
        "        # Iterate through the friend's neighbors\n",
        "        for neighbor in G[friend]:\n",
        "            # If the friend has not been visited, add them to the visited array\n",
        "            if neighbor not in visited:\n",
        "                visited.add(neighbor)\n",
        "                # Enqueue the neighbor with an increased iteration by adding 1\n",
        "                active.append((neighbor, iter + 1))\n",
        "\n",
        "    # Have an error check that will print if no friends were found\n",
        "    if not kthFriends:\n",
        "        print(\"-----------------------\")\n",
        "        print(\"WARNING: There were no friends found at the {k}-level for {f}!!!\".format(k=K, f=User))\n",
        "        print(\"-----------------------\")\n",
        "    else:\n",
        "        # Print the Kth-level friend(s) of the person passed into the FindFriends function\n",
        "        print(\"-----------------------\")\n",
        "        print(\"The {k}-level friend(s) of {f} is/are: {a}\".format(k=K, f=User, a=kthFriends))\n",
        "        print(\"-----------------------\")"
      ]
    },
    {
      "cell_type": "markdown",
      "source": [
        "# **Current Task**\n",
        "\n",
        "The task is to use the BFS algorithm to return the kth-level friend for a given user and graph: FindFriends(G, User, K)."
      ],
      "metadata": {
        "id": "ZmI9R0V3tBEo"
      }
    },
    {
      "cell_type": "code",
      "source": [
        "#@title Executing the Solution\n",
        "\n",
        "# Initialize the graph provided\n",
        "G = {\n",
        "  'Bob' : ['Rob', 'Richard', 'Pam'],\n",
        "  'Pam' : ['Roger', 'Peter'],\n",
        "  'Rob' : [],\n",
        "  'Richard' : [],\n",
        "  'Peter' : ['Amy'],\n",
        "  'Amy' : [],\n",
        "  'Roger' : ['Anna'],\n",
        "  'Anna' : []\n",
        "}\n",
        "\n",
        "# Initialize the starting person and the Kth-iteration we want to search to\n",
        "rootFriend = 'Bob'\n",
        "kthLevel = 3\n",
        "\n",
        "# Pass in the graph created (G), the person of interest to start from (Bob), and the Kth-level friends(s) (3)\n",
        "# Note: The result of whether friends were found are printed at the end of the function!\n",
        "FindFriends(G, rootFriend, kthLevel)"
      ],
      "metadata": {
        "colab": {
          "base_uri": "https://localhost:8080/"
        },
        "id": "48HdPXO-lfEK",
        "outputId": "7855f562-e074-4bfa-923f-682204e25f25"
      },
      "execution_count": 2,
      "outputs": [
        {
          "output_type": "stream",
          "name": "stdout",
          "text": [
            "-----------------------\n",
            "The 3-level friend(s) of Bob is/are: ['Anna', 'Amy']\n",
            "-----------------------\n"
          ]
        }
      ]
    }
  ]
}