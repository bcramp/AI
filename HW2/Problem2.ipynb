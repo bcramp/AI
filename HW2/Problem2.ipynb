{
  "nbformat": 4,
  "nbformat_minor": 0,
  "metadata": {
    "colab": {
      "provenance": [],
      "authorship_tag": "ABX9TyOyZ+h+x0GSqcw6nDBoD7h4",
      "include_colab_link": true
    },
    "kernelspec": {
      "name": "python3",
      "display_name": "Python 3"
    },
    "language_info": {
      "name": "python"
    }
  },
  "cells": [
    {
      "cell_type": "markdown",
      "metadata": {
        "id": "view-in-github",
        "colab_type": "text"
      },
      "source": [
        "<a href=\"https://colab.research.google.com/github/bcramp/AI/blob/main/HW2/Problem2.ipynb\" target=\"_parent\"><img src=\"https://colab.research.google.com/assets/colab-badge.svg\" alt=\"Open In Colab\"/></a>"
      ]
    },
    {
      "cell_type": "markdown",
      "source": [
        "# **HW 2 Problem 2 Introduction:**\n",
        "HW 2: Problem 2\n",
        "\n",
        "Title: Social Network Potential Friends BFS\n",
        "\n",
        "Name: Brennen Cramp\n",
        "\n",
        "Date: 9/23/2025\n",
        "\n",
        "\n",
        "---\n",
        "\n",
        "\n",
        "**The problem:**\n",
        "\n",
        "We have a social network graph shown in the assignment at times t and t'. Maria and Adam are friends, Maria and Sophia are also friends at time t. Possibly Maria introduces Sophia to Adam, and they become friends as well. Similarly, Sophia and David may become friends at time t'."
      ],
      "metadata": {
        "id": "NeU25kCzbBoP"
      }
    },
    {
      "cell_type": "code",
      "execution_count": 1,
      "metadata": {
        "id": "tvYJOkhna0Eg"
      },
      "outputs": [],
      "source": [
        "#@title PotentialFriends Function\n",
        "\n",
        "# Import the Deque class from the Collections library\n",
        "from collections import deque\n",
        "\n",
        "# The PotentialFriends function finds the potential friends given a root person within a graph and prints them out\n",
        "def PotentialFriends(G, User):\n",
        "    # Create a visited set and add the desired user (root node) first\n",
        "    visited = set()\n",
        "    visited.add(User)\n",
        "\n",
        "    # Create an active queue (using deque) to track the active nodes and add the desired user (root node)\n",
        "    active = deque([User])\n",
        "\n",
        "    # Create an empty array for prospect (potential) friends\n",
        "    prospectFriends = []\n",
        "\n",
        "    # Create an array for the initial freinds\n",
        "    initialFriends = G[User]\n",
        "\n",
        "    # While the active queue is not empty, iterate through the nodes with BFS\n",
        "    while active:\n",
        "        # Dequeue a friend node from the active queue\n",
        "        friend = active.popleft()\n",
        "\n",
        "        # Iterate through the friend's neighbors\n",
        "        for neighbor in G[friend]:\n",
        "            # If the friend has not been visited, add them to the visited array\n",
        "            if neighbor not in visited:\n",
        "                visited.add(neighbor)\n",
        "                # Enqueue the neighbor\n",
        "                active.append(neighbor)\n",
        "\n",
        "    # Iterate over all the nodes visited to find which friends are not current friends of the User\n",
        "    for friend in visited:\n",
        "        # Take the difference of the visited nodes with the User's current friends and themself\n",
        "        if friend not in initialFriends and friend is not User:\n",
        "            prospectFriends.append(friend)\n",
        "\n",
        "    # Have a check that will print if no potential friends were found\n",
        "    if not prospectFriends:\n",
        "        print(\"-----------------------\")\n",
        "        print(\"There were NO potential friends found for {f}!\".format(f=User))\n",
        "        print(\"-----------------------\")\n",
        "    else:\n",
        "        # Print the number of potential friends and who they are for the person passed into the PotentialFriends function\n",
        "        print(\"-----------------------\")\n",
        "        print(\"There were {s} potential friend(s) found for {f} and they are: {a}\".format(s=len(prospectFriends), f=User, a=prospectFriends))\n",
        "        print(\"-----------------------\")"
      ]
    },
    {
      "cell_type": "markdown",
      "source": [
        "# **Current Task**\n",
        "\n",
        "The task is to write an algorithm that uses BFS to discover potentially missing immediate connections in a network.\n",
        "\n",
        "For example, for the network G shown at time t:\n",
        "\n",
        "*   PotentialFriends(G, 'Adam') returns Sophia, Maya, David\n",
        "*   PotentialFriends(G, 'David') returns Adam, Sophia\n",
        "*   PotentialFriends(G, 'Sophia') returns Adam, David"
      ],
      "metadata": {
        "id": "ZmI9R0V3tBEo"
      }
    },
    {
      "cell_type": "code",
      "source": [
        "#@title Executing the Solution\n",
        "\n",
        "# Initialize the graph provided\n",
        "G = {\n",
        "  'Adam' : ['Maria'],\n",
        "  'Maria' : ['Adam', 'Sophia', 'Maya', 'David'],\n",
        "  'Sophia' : ['Maria', 'Maya'],\n",
        "  'Maya' : ['Maria', 'Sophia', 'David'],\n",
        "  'David' : ['Maria', 'Maya']\n",
        "}\n",
        "\n",
        "# -------------------- Find potential friends for Adam --------------------\n",
        "# Initialize the starting person as Adam\n",
        "rootFriend = 'Adam'\n",
        "\n",
        "# Pass in the graph created (G) and the person to find potential friends for (Adam)\n",
        "# Note: The result of the potential friends that were found are printed at the end of the function!\n",
        "PotentialFriends(G, rootFriend)\n",
        "print()\n",
        "\n",
        "\n",
        "# -------------------- Find potential friends for David --------------------\n",
        "# Set the starting person as David\n",
        "rootFriend = 'David'\n",
        "\n",
        "# Pass in the graph created (G) and the person to find potential friends for (David)\n",
        "# Note: The result of the potential friends that were found are printed at the end of the function!\n",
        "PotentialFriends(G, rootFriend)\n",
        "print()\n",
        "\n",
        "\n",
        "# -------------------- Find potential friends for Sophia --------------------\n",
        "# Set the starting person as Sophia\n",
        "rootFriend = 'Sophia'\n",
        "\n",
        "# Pass in the graph created (G) and the person to find potential friends for (Sophia)\n",
        "# Note: The result of the potential friends that were found are printed at the end of the function!\n",
        "PotentialFriends(G, rootFriend)"
      ],
      "metadata": {
        "colab": {
          "base_uri": "https://localhost:8080/"
        },
        "id": "48HdPXO-lfEK",
        "outputId": "f2414286-74d9-486d-d4a7-92cd3106f974"
      },
      "execution_count": 2,
      "outputs": [
        {
          "output_type": "stream",
          "name": "stdout",
          "text": [
            "-----------------------\n",
            "There were 3 potential friend(s) found for Adam and they are: ['David', 'Maya', 'Sophia']\n",
            "-----------------------\n",
            "\n",
            "-----------------------\n",
            "There were 2 potential friend(s) found for David and they are: ['Adam', 'Sophia']\n",
            "-----------------------\n",
            "\n",
            "-----------------------\n",
            "There were 2 potential friend(s) found for Sophia and they are: ['Adam', 'David']\n",
            "-----------------------\n"
          ]
        }
      ]
    }
  ]
}